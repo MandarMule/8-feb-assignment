{
 "cells": [
  {
   "cell_type": "code",
   "execution_count": null,
   "id": "f768134a-6c77-44bc-a5a7-75a8a1d12a7f",
   "metadata": {},
   "outputs": [],
   "source": [
    "Q1. What is Abstraction in OOps? Explain with an example."
   ]
  },
  {
   "cell_type": "code",
   "execution_count": null,
   "id": "4a280b38-39fc-4f11-b587-6fc5311f0286",
   "metadata": {},
   "outputs": [],
   "source": [
    "Abstraction is method of representing complex coading structure into simplest way. this method provides a framework, with use of this \n",
    "complex coading can be done in easiest and understandable way to user. It provides only necessary information to user."
   ]
  },
  {
   "cell_type": "code",
   "execution_count": 2,
   "id": "f1b5bdf7-22d8-4da3-b334-c912f8870667",
   "metadata": {},
   "outputs": [],
   "source": [
    "import abc\n",
    "class college_fees:\n",
    "    \n",
    "    @abc.abstractmethod\n",
    "    def tution_and_examination_fees(self):\n",
    "        pass\n",
    "    \n",
    "    @abc.abstractmethod\n",
    "    def student_security_fees(self):\n",
    "        pass\n",
    "    \n",
    "    @abc.abstractmethod\n",
    "    def clg_establishment_charge(self):\n",
    "        pass\n",
    "    \n",
    "    @abc.abstractmethod\n",
    "    def hostel_charges(self):\n",
    "        pass\n",
    "    \n",
    "    "
   ]
  },
  {
   "cell_type": "code",
   "execution_count": 7,
   "id": "c25e2b45-2c72-4237-bf91-73254ed0df13",
   "metadata": {},
   "outputs": [],
   "source": [
    "class IIT_Bombay(college_fees):\n",
    "    def tution_and_examination_fees(self):\n",
    "        return \"this is !\"\n",
    "    \n",
    "    def clg_establishment_charge(self):\n",
    "        return \"this is 23\"\n",
    "    "
   ]
  },
  {
   "cell_type": "code",
   "execution_count": 8,
   "id": "0a4f1a44-2e9e-4e4d-a6fc-2bac88336f5f",
   "metadata": {},
   "outputs": [],
   "source": [
    "class IIT_KGP(college_fees):\n",
    "    def hostel_charge(self):\n",
    "        return \"this is !\"\n",
    "    \n",
    "    def student_security_fee(self):\n",
    "        return \"this is 23\""
   ]
  },
  {
   "cell_type": "code",
   "execution_count": 9,
   "id": "2be7c397-01a6-4f9b-9814-e2aeb2deecbc",
   "metadata": {},
   "outputs": [],
   "source": [
    "mandar = IIT_Bombay()"
   ]
  },
  {
   "cell_type": "code",
   "execution_count": 10,
   "id": "46ddc6cd-58a6-4dd0-9c7c-8a2fd443e7f3",
   "metadata": {},
   "outputs": [
    {
     "data": {
      "text/plain": [
       "'this is !'"
      ]
     },
     "execution_count": 10,
     "metadata": {},
     "output_type": "execute_result"
    }
   ],
   "source": [
    "mandar.tution_and_examination_fees()"
   ]
  },
  {
   "cell_type": "code",
   "execution_count": null,
   "id": "6920429d-acc8-44cd-81da-bcb3ebc5294c",
   "metadata": {},
   "outputs": [],
   "source": [
    "Q2.Differentiate between Abstraction and Encapsulation. Explain with an example."
   ]
  },
  {
   "cell_type": "code",
   "execution_count": null,
   "id": "b3f550ab-04cd-4bea-b775-27ad23c43e74",
   "metadata": {},
   "outputs": [],
   "source": [
    "Abstraction is a way of representing some specific data. Encapsulation is a way of hiding the complexity of something and exposing only \n",
    "the parts you wish to expose. Instead of writing a function that multiplies two numbers, we can write a function “multiply” \n",
    "and use it to multiply any number with any number. If you have a class that has one or more private fields that you use to \n",
    "store the data, then you are in encapsulation"
   ]
  },
  {
   "cell_type": "code",
   "execution_count": null,
   "id": "d893d613-08af-4e99-a78f-5f255e596b0d",
   "metadata": {},
   "outputs": [],
   "source": [
    "Q3.What is abc module in python? Why is it used?"
   ]
  },
  {
   "cell_type": "code",
   "execution_count": null,
   "id": "27d82721-212f-43de-991c-4dc609452b09",
   "metadata": {},
   "outputs": [],
   "source": [
    "This module provides the infrastructure for defining abstract base classes (ABCs) in Python.\n"
   ]
  },
  {
   "cell_type": "code",
   "execution_count": null,
   "id": "dae0b6bd-ab40-440f-ba7e-a92199be4cd6",
   "metadata": {},
   "outputs": [],
   "source": [
    "Q4. How can we achieve data abstraction?"
   ]
  },
  {
   "cell_type": "code",
   "execution_count": null,
   "id": "475375b3-36f7-4958-bfd1-dc0b59c22b31",
   "metadata": {},
   "outputs": [],
   "source": [
    "Data Abstraction in Python can be achieved through creating abstract classes and inheriting them later."
   ]
  },
  {
   "cell_type": "code",
   "execution_count": null,
   "id": "e51ec14c-f7e4-4485-9a3f-c1b81d785f6e",
   "metadata": {},
   "outputs": [],
   "source": [
    "Q5.an we create an instance of an abstract class? Explain your answer."
   ]
  },
  {
   "cell_type": "code",
   "execution_count": null,
   "id": "8177abf8-72f0-4862-af66-2e8f88737814",
   "metadata": {},
   "outputs": [],
   "source": [
    "Abstract classes are not complete, as they may have some methods that are not defined. So we cannot create an instance or object of an \n",
    "abstract class in Python.\n"
   ]
  }
 ],
 "metadata": {
  "kernelspec": {
   "display_name": "Python 3 (ipykernel)",
   "language": "python",
   "name": "python3"
  },
  "language_info": {
   "codemirror_mode": {
    "name": "ipython",
    "version": 3
   },
   "file_extension": ".py",
   "mimetype": "text/x-python",
   "name": "python",
   "nbconvert_exporter": "python",
   "pygments_lexer": "ipython3",
   "version": "3.10.8"
  }
 },
 "nbformat": 4,
 "nbformat_minor": 5
}
